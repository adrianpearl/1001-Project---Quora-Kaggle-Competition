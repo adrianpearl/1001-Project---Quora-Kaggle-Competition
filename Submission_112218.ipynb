{
 "cells": [
  {
   "cell_type": "code",
   "execution_count": 1,
   "metadata": {
    "collapsed": true
   },
   "outputs": [],
   "source": [
    "import numpy as np\n",
    "import pandas as pd\n",
    "from sklearn.linear_model import LogisticRegression\n",
    "from sklearn.naive_bayes import BernoulliNB\n",
    "from sklearn import metrics\n",
    "#from sklearn import cross_validation\n",
    "#from sklearn.cross_validation import train_test_split\n",
    "from sklearn.model_selection import train_test_split\n",
    "from sklearn.feature_extraction.text import CountVectorizer\n",
    "from sklearn.feature_extraction.text import TfidfVectorizer\n",
    "from sklearn.metrics import confusion_matrix\n",
    "import matplotlib.pyplot as plt\n",
    "from sklearn.feature_extraction import stop_words\n",
    "from sklearn.metrics import f1_score\n",
    "from nltk.stem.snowball import SnowballStemmer\n",
    "from sklearn.utils import resample\n",
    "from sklearn.metrics import precision_recall_curve\n",
    "import string, re\n",
    "\n",
    "%matplotlib inline"
   ]
  },
  {
   "cell_type": "code",
   "execution_count": 2,
   "metadata": {
    "collapsed": true
   },
   "outputs": [],
   "source": [
    "def run_model(train_data, test_data, vectorizer_type, binary_type, ngram, stop_word, model_type, max_t):\n",
    "    X_train = train_data['question_text']\n",
    "    Y_train = train_data['target']\n",
    "    X_test = test_data['question_text']\n",
    "    \n",
    "    \n",
    "    vectorizer = vectorizer_type(binary = binary_type, stop_words = stop_word, ngram_range=ngram)\n",
    "    vectorizer.fit(X_train)\n",
    "    X_train_vectorized = vectorizer.transform(X_train)\n",
    "    X_test_vectorized = vectorizer.transform(X_test)\n",
    "    model = model_type\n",
    "    model.fit(X_train_vectorized, Y_train)\n",
    "    \n",
    "    predictions = model.predict_proba(X_test_vectorized)[:,1]\n",
    "    max_threshold = max_t\n",
    "    targets = []\n",
    "    for i in predictions:\n",
    "        if i<= max_threshold:\n",
    "            targets.append(0)\n",
    "        else:\n",
    "            targets.append(1)\n",
    "    \n",
    "    \n",
    "    \n",
    "    return(predictions, targets)"
   ]
  },
  {
   "cell_type": "code",
   "execution_count": 3,
   "metadata": {
    "collapsed": true
   },
   "outputs": [],
   "source": [
    "def _get_mispell(mispell_dict):\n",
    "    mispell_re = re.compile('(%s)' % '|'.join(mispell_dict.keys()))\n",
    "    return mispell_dict, mispell_re\n",
    "\n",
    "\n",
    "mispell_dict = {'colour':'color',\n",
    "                'centre':'center',\n",
    "                'didnt':'did not',\n",
    "                'doesnt':'does not',\n",
    "                'wouldnt':'would not',\n",
    "                'isnt':'is not',\n",
    "                'wouldnt':'would not',\n",
    "                'shouldnt':'should not',\n",
    "                'favourite':'favorite',\n",
    "                'neighbour': 'neighbor',\n",
    "                'humour': 'humor',\n",
    "                'apologise': 'apologize',\n",
    "                'travelling':'traveling',\n",
    "                'counselling':'counseling',\n",
    "                'recognise': 'recognize',\n",
    "                'theatre':'theater',\n",
    "                'cancelled':'canceled',\n",
    "                'travelled': 'traveled',\n",
    "                'offence': 'offense',\n",
    "                'licence': 'license',\n",
    "                'labour':'labor',\n",
    "                'behaviour': 'behavior',\n",
    "                'organisation':'organization',\n",
    "                'wwii':'world war 2',\n",
    "                'citicise':'criticize',\n",
    "                'instagram': 'social_media',\n",
    "                'whatsapp': 'social_media',\n",
    "                'snapchat': 'social_media',\n",
    "                'facebook': 'social_media'\n",
    "\n",
    "                }\n",
    "mispellings, mispellings_re = _get_mispell(mispell_dict)\n",
    "\n",
    "def replace_typical_misspell(text):\n",
    "    def replace(match):\n",
    "        return mispellings[match.group(0)]\n",
    "\n",
    "    return mispellings_re.sub(replace, text)\n",
    "\n",
    "\n",
    "def clean(text):\n",
    "    # Remove puncuation\n",
    "    text = ''.join(ch for ch in text if ch not in string.punctuation)\n",
    "    \n",
    "    # Convert words to lower case and split them\n",
    "    text = text.lower()\n",
    "\n",
    "    # Clean the text\n",
    "    text = re.sub(r\"what's\", \"what is \", text)\n",
    "    text = re.sub(r\"\\'s\", \" \", text)\n",
    "    text = re.sub(r\"\\'ve\", \" have \", text)\n",
    "    text = re.sub(r\"n't\", \" not \", text)\n",
    "    text = re.sub(r\"'m\", \" am \", text)\n",
    "    text = re.sub(r\"\\'re\", \" are \", text)\n",
    "    text = re.sub(r\"\\'d\", \" would \", text)\n",
    "    text = re.sub(r\"\\'ll\", \" will \", text)\n",
    "    \n",
    "    text = re.sub('[0-9]{5,}', '#####', text)\n",
    "    text = re.sub('[0-9]{4}', '####', text)\n",
    "    text = re.sub('[0-9]{3}', '###', text)\n",
    "    text = re.sub('[0-9]{2}', '##', text)\n",
    "    text = re.sub('[0-9]{1}', '#', text)\n",
    "    \n",
    "    #Replace typical misspells\n",
    "    text = replace_typical_misspell(text)\n",
    "    \n",
    "    #Stem words\n",
    "    stemmer = SnowballStemmer('english')\n",
    "    text = ' '.join([stemmer.stem(word) for word in text.split(' ')])\n",
    "#     stemmed_words = [stemmer.stem(word) for word in text]\n",
    "#     text = \" \".join(stemmed_words)\n",
    "    \n",
    "    return text"
   ]
  },
  {
   "cell_type": "code",
   "execution_count": null,
   "metadata": {
    "collapsed": true
   },
   "outputs": [],
   "source": [
    "train_data = pd.read_csv('../input/train.csv', index_col = 0)\n",
    "train_data['question_text'] = train_data[\"question_text\"].apply(lambda x: clean(x))\n",
    "test_data = pd.read_csv('../input/test.csv', index_col = 0)\n",
    "test_data['question_text'] = test_data[\"question_text\"].apply(lambda x: clean(x))"
   ]
  },
  {
   "cell_type": "code",
   "execution_count": null,
   "metadata": {
    "collapsed": true
   },
   "outputs": [],
   "source": [
    "train_bestmodel = train_data.copy()\n",
    "train_bestmodel['question_text'] = train_bestmodel[\"question_text\"].apply(lambda x: clean(x))\n",
    "test_bestmodel = test_data.copy()\n",
    "test_bestmodel['question_text'] = test_bestmodel[\"question_text\"].apply(lambda x: clean(x))\n",
    "\n",
    "test = run_model(train_bestmodel, test_bestmodel, CountVectorizer, True, (1,4), None, LogisticRegression(), .1636935)"
   ]
  },
  {
   "cell_type": "code",
   "execution_count": null,
   "metadata": {
    "collapsed": true
   },
   "outputs": [],
   "source": [
    "test_results = pd.DataFrame()\n",
    "test_results['qid'] = test_data.index\n",
    "test_results['prediction_percent'] = test[0]\n",
    "test_results['prediction'] = test[1]"
   ]
  },
  {
   "cell_type": "code",
   "execution_count": null,
   "metadata": {
    "collapsed": true
   },
   "outputs": [],
   "source": [
    "results = test_results.drop('prediction_percent', 1)\n",
    "results.to_csv('submission.csv', index = False)"
   ]
  }
 ],
 "metadata": {
  "kernelspec": {
   "display_name": "Python 3",
   "language": "python",
   "name": "python3"
  },
  "language_info": {
   "codemirror_mode": {
    "name": "ipython",
    "version": 3
   },
   "file_extension": ".py",
   "mimetype": "text/x-python",
   "name": "python",
   "nbconvert_exporter": "python",
   "pygments_lexer": "ipython3",
   "version": "3.6.3"
  }
 },
 "nbformat": 4,
 "nbformat_minor": 2
}
