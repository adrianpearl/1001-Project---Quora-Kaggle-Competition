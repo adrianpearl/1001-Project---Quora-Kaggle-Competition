{
 "cells": [
  {
   "cell_type": "code",
   "execution_count": 1,
   "metadata": {},
   "outputs": [],
   "source": [
    "import pandas as pd"
   ]
  },
  {
   "cell_type": "code",
   "execution_count": 4,
   "metadata": {},
   "outputs": [],
   "source": [
    "df = pd.read_csv(\"train.csv\")"
   ]
  },
  {
   "cell_type": "code",
   "execution_count": 5,
   "metadata": {},
   "outputs": [
    {
     "data": {
      "text/html": [
       "<div>\n",
       "<style scoped>\n",
       "    .dataframe tbody tr th:only-of-type {\n",
       "        vertical-align: middle;\n",
       "    }\n",
       "\n",
       "    .dataframe tbody tr th {\n",
       "        vertical-align: top;\n",
       "    }\n",
       "\n",
       "    .dataframe thead th {\n",
       "        text-align: right;\n",
       "    }\n",
       "</style>\n",
       "<table border=\"1\" class=\"dataframe\">\n",
       "  <thead>\n",
       "    <tr style=\"text-align: right;\">\n",
       "      <th></th>\n",
       "      <th>qid</th>\n",
       "      <th>question_text</th>\n",
       "      <th>target</th>\n",
       "    </tr>\n",
       "  </thead>\n",
       "  <tbody>\n",
       "    <tr>\n",
       "      <th>0</th>\n",
       "      <td>00002165364db923c7e6</td>\n",
       "      <td>How did Quebec nationalists see their province...</td>\n",
       "      <td>0</td>\n",
       "    </tr>\n",
       "    <tr>\n",
       "      <th>1</th>\n",
       "      <td>000032939017120e6e44</td>\n",
       "      <td>Do you have an adopted dog, how would you enco...</td>\n",
       "      <td>0</td>\n",
       "    </tr>\n",
       "    <tr>\n",
       "      <th>2</th>\n",
       "      <td>0000412ca6e4628ce2cf</td>\n",
       "      <td>Why does velocity affect time? Does velocity a...</td>\n",
       "      <td>0</td>\n",
       "    </tr>\n",
       "    <tr>\n",
       "      <th>3</th>\n",
       "      <td>000042bf85aa498cd78e</td>\n",
       "      <td>How did Otto von Guericke used the Magdeburg h...</td>\n",
       "      <td>0</td>\n",
       "    </tr>\n",
       "    <tr>\n",
       "      <th>4</th>\n",
       "      <td>0000455dfa3e01eae3af</td>\n",
       "      <td>Can I convert montra helicon D to a mountain b...</td>\n",
       "      <td>0</td>\n",
       "    </tr>\n",
       "  </tbody>\n",
       "</table>\n",
       "</div>"
      ],
      "text/plain": [
       "                    qid                                      question_text  \\\n",
       "0  00002165364db923c7e6  How did Quebec nationalists see their province...   \n",
       "1  000032939017120e6e44  Do you have an adopted dog, how would you enco...   \n",
       "2  0000412ca6e4628ce2cf  Why does velocity affect time? Does velocity a...   \n",
       "3  000042bf85aa498cd78e  How did Otto von Guericke used the Magdeburg h...   \n",
       "4  0000455dfa3e01eae3af  Can I convert montra helicon D to a mountain b...   \n",
       "\n",
       "   target  \n",
       "0       0  \n",
       "1       0  \n",
       "2       0  \n",
       "3       0  \n",
       "4       0  "
      ]
     },
     "execution_count": 5,
     "metadata": {},
     "output_type": "execute_result"
    }
   ],
   "source": [
    "df.head()"
   ]
  },
  {
   "cell_type": "code",
   "execution_count": 6,
   "metadata": {},
   "outputs": [
    {
     "data": {
      "text/plain": [
       "(1306122, 3)"
      ]
     },
     "execution_count": 6,
     "metadata": {},
     "output_type": "execute_result"
    }
   ],
   "source": [
    "df.shape"
   ]
  },
  {
   "cell_type": "code",
   "execution_count": 7,
   "metadata": {},
   "outputs": [],
   "source": [
    "df_in = df[df.target == 1]"
   ]
  },
  {
   "cell_type": "code",
   "execution_count": 9,
   "metadata": {
    "scrolled": true
   },
   "outputs": [
    {
     "data": {
      "text/html": [
       "<div>\n",
       "<style scoped>\n",
       "    .dataframe tbody tr th:only-of-type {\n",
       "        vertical-align: middle;\n",
       "    }\n",
       "\n",
       "    .dataframe tbody tr th {\n",
       "        vertical-align: top;\n",
       "    }\n",
       "\n",
       "    .dataframe thead th {\n",
       "        text-align: right;\n",
       "    }\n",
       "</style>\n",
       "<table border=\"1\" class=\"dataframe\">\n",
       "  <thead>\n",
       "    <tr style=\"text-align: right;\">\n",
       "      <th></th>\n",
       "      <th>qid</th>\n",
       "      <th>question_text</th>\n",
       "      <th>target</th>\n",
       "    </tr>\n",
       "  </thead>\n",
       "  <tbody>\n",
       "    <tr>\n",
       "      <th>304395</th>\n",
       "      <td>3b9f24212a8cfc537d2b</td>\n",
       "      <td>How do I plagarise answers and still survive on Quora?</td>\n",
       "      <td>1</td>\n",
       "    </tr>\n",
       "    <tr>\n",
       "      <th>287746</th>\n",
       "      <td>385a781c59652aff9a23</td>\n",
       "      <td>Why do some women/girls complain when they are so privileged?</td>\n",
       "      <td>1</td>\n",
       "    </tr>\n",
       "    <tr>\n",
       "      <th>1140476</th>\n",
       "      <td>df7cf623d3bca909aedc</td>\n",
       "      <td>Why are conservatives so self centred and lacking in empathy towards those less fortunate than themselves (ie. the hardworking poor)?</td>\n",
       "      <td>1</td>\n",
       "    </tr>\n",
       "    <tr>\n",
       "      <th>1202416</th>\n",
       "      <td>eba91f44386a75f94e6b</td>\n",
       "      <td>Are Welsh people fully conscious?</td>\n",
       "      <td>1</td>\n",
       "    </tr>\n",
       "    <tr>\n",
       "      <th>75412</th>\n",
       "      <td>0ec2f09dede15932bb7d</td>\n",
       "      <td>People In Stores Always Think I'm A Thief Because I Look Black And I Am Fed Up With This Racist Crap why it never happens to Italians?</td>\n",
       "      <td>1</td>\n",
       "    </tr>\n",
       "    <tr>\n",
       "      <th>62288</th>\n",
       "      <td>0c3a7ebca53ac98b117a</td>\n",
       "      <td>Why do Turks and Azerbaijanis hate Pakistan?</td>\n",
       "      <td>1</td>\n",
       "    </tr>\n",
       "    <tr>\n",
       "      <th>1279839</th>\n",
       "      <td>fad402457330b0f86c65</td>\n",
       "      <td>Why did the British make Mir Jafar the Nawab of Bengal again?</td>\n",
       "      <td>1</td>\n",
       "    </tr>\n",
       "    <tr>\n",
       "      <th>777402</th>\n",
       "      <td>9845d08e58e92f9d4c8b</td>\n",
       "      <td>How can the NRA make Americans accept mass-killing business as normal as another car accident?</td>\n",
       "      <td>1</td>\n",
       "    </tr>\n",
       "    <tr>\n",
       "      <th>797419</th>\n",
       "      <td>9c4310210e2748cc61eb</td>\n",
       "      <td>Why is Rahul Gandhi an idiot and called Pappu? Why doesn't someone like Shasi Tharoor takes his place?</td>\n",
       "      <td>1</td>\n",
       "    </tr>\n",
       "    <tr>\n",
       "      <th>348523</th>\n",
       "      <td>444c300a790927c8c723</td>\n",
       "      <td>When will President Trump's loyal supporters come to realize the President Trump and most of his cabinet are part of the swamp?</td>\n",
       "      <td>1</td>\n",
       "    </tr>\n",
       "  </tbody>\n",
       "</table>\n",
       "</div>"
      ],
      "text/plain": [
       "                          qid  \\\n",
       "304395   3b9f24212a8cfc537d2b   \n",
       "287746   385a781c59652aff9a23   \n",
       "1140476  df7cf623d3bca909aedc   \n",
       "1202416  eba91f44386a75f94e6b   \n",
       "75412    0ec2f09dede15932bb7d   \n",
       "62288    0c3a7ebca53ac98b117a   \n",
       "1279839  fad402457330b0f86c65   \n",
       "777402   9845d08e58e92f9d4c8b   \n",
       "797419   9c4310210e2748cc61eb   \n",
       "348523   444c300a790927c8c723   \n",
       "\n",
       "                                                                                                                                  question_text  \\\n",
       "304395                                                                                   How do I plagarise answers and still survive on Quora?   \n",
       "287746                                                                            Why do some women/girls complain when they are so privileged?   \n",
       "1140476   Why are conservatives so self centred and lacking in empathy towards those less fortunate than themselves (ie. the hardworking poor)?   \n",
       "1202416                                                                                                       Are Welsh people fully conscious?   \n",
       "75412    People In Stores Always Think I'm A Thief Because I Look Black And I Am Fed Up With This Racist Crap why it never happens to Italians?   \n",
       "62288                                                                                              Why do Turks and Azerbaijanis hate Pakistan?   \n",
       "1279839                                                                           Why did the British make Mir Jafar the Nawab of Bengal again?   \n",
       "777402                                           How can the NRA make Americans accept mass-killing business as normal as another car accident?   \n",
       "797419                                   Why is Rahul Gandhi an idiot and called Pappu? Why doesn't someone like Shasi Tharoor takes his place?   \n",
       "348523          When will President Trump's loyal supporters come to realize the President Trump and most of his cabinet are part of the swamp?   \n",
       "\n",
       "         target  \n",
       "304395        1  \n",
       "287746        1  \n",
       "1140476       1  \n",
       "1202416       1  \n",
       "75412         1  \n",
       "62288         1  \n",
       "1279839       1  \n",
       "777402        1  \n",
       "797419        1  \n",
       "348523        1  "
      ]
     },
     "execution_count": 9,
     "metadata": {},
     "output_type": "execute_result"
    }
   ],
   "source": [
    "pd.set_option('max_colwidth', 240)\n",
    "df_in.sample(10)"
   ]
  },
  {
   "cell_type": "code",
   "execution_count": 19,
   "metadata": {},
   "outputs": [
    {
     "data": {
      "text/plain": [
       "0    1225312\n",
       "1      80810\n",
       "Name: target, dtype: int64"
      ]
     },
     "execution_count": 19,
     "metadata": {},
     "output_type": "execute_result"
    }
   ],
   "source": [
    "df.target.value_counts()"
   ]
  },
  {
   "cell_type": "code",
   "execution_count": null,
   "metadata": {},
   "outputs": [],
   "source": []
  }
 ],
 "metadata": {
  "kernelspec": {
   "display_name": "Python 3",
   "language": "python",
   "name": "python3"
  },
  "language_info": {
   "codemirror_mode": {
    "name": "ipython",
    "version": 3
   },
   "file_extension": ".py",
   "mimetype": "text/x-python",
   "name": "python",
   "nbconvert_exporter": "python",
   "pygments_lexer": "ipython3",
   "version": "3.6.4"
  }
 },
 "nbformat": 4,
 "nbformat_minor": 2
}
