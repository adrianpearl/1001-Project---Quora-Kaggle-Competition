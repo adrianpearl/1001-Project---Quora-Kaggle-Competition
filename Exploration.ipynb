{
 "cells": [
  {
   "cell_type": "code",
   "execution_count": 1,
   "metadata": {
    "collapsed": true
   },
   "outputs": [],
   "source": [
    "import pandas as pd"
   ]
  },
  {
   "cell_type": "code",
   "execution_count": 2,
   "metadata": {
    "collapsed": true
   },
   "outputs": [],
   "source": [
    "df = pd.read_csv(\"train.csv\")"
   ]
  },
  {
   "cell_type": "code",
   "execution_count": 4,
   "metadata": {},
   "outputs": [
    {
     "data": {
      "text/plain": [
       "(1306122, 3)"
      ]
     },
     "execution_count": 4,
     "metadata": {},
     "output_type": "execute_result"
    }
   ],
   "source": [
    "df.shape"
   ]
  },
  {
   "cell_type": "code",
   "execution_count": 5,
   "metadata": {
    "collapsed": true
   },
   "outputs": [],
   "source": [
    "df_in = df[df.target == 1]"
   ]
  },
  {
   "cell_type": "code",
   "execution_count": 6,
   "metadata": {
    "scrolled": true
   },
   "outputs": [
    {
     "data": {
      "text/html": [
       "<div>\n",
       "<style scoped>\n",
       "    .dataframe tbody tr th:only-of-type {\n",
       "        vertical-align: middle;\n",
       "    }\n",
       "\n",
       "    .dataframe tbody tr th {\n",
       "        vertical-align: top;\n",
       "    }\n",
       "\n",
       "    .dataframe thead th {\n",
       "        text-align: right;\n",
       "    }\n",
       "</style>\n",
       "<table border=\"1\" class=\"dataframe\">\n",
       "  <thead>\n",
       "    <tr style=\"text-align: right;\">\n",
       "      <th></th>\n",
       "      <th>qid</th>\n",
       "      <th>question_text</th>\n",
       "      <th>target</th>\n",
       "    </tr>\n",
       "  </thead>\n",
       "  <tbody>\n",
       "    <tr>\n",
       "      <th>515914</th>\n",
       "      <td>650351b109e63e95e5aa</td>\n",
       "      <td>Who do you find more attractive: Indian or Pakistani men?</td>\n",
       "      <td>1</td>\n",
       "    </tr>\n",
       "    <tr>\n",
       "      <th>623115</th>\n",
       "      <td>7a06137b249f4d4fe453</td>\n",
       "      <td>Why is public sharting so prolific amoung liberals today?</td>\n",
       "      <td>1</td>\n",
       "    </tr>\n",
       "    <tr>\n",
       "      <th>477335</th>\n",
       "      <td>5d7a26b369dae2ec3fdf</td>\n",
       "      <td>Is canibalism in China on the rise?</td>\n",
       "      <td>1</td>\n",
       "    </tr>\n",
       "    <tr>\n",
       "      <th>397838</th>\n",
       "      <td>4df016329661c6063d14</td>\n",
       "      <td>Are American parents assholes for their expectations for their kids to leave their homes at a certain time? Other cultures love their families, and don't kick out young or old (grandparents).</td>\n",
       "      <td>1</td>\n",
       "    </tr>\n",
       "    <tr>\n",
       "      <th>50779</th>\n",
       "      <td>09f41e9adb03aab835d5</td>\n",
       "      <td>Why Turkish people dislike American tourists in their country?</td>\n",
       "      <td>1</td>\n",
       "    </tr>\n",
       "    <tr>\n",
       "      <th>1111301</th>\n",
       "      <td>d9c26b2f9a0569984566</td>\n",
       "      <td>Do you think it should be \"peoples' empowerment\" rather than \"women's empowerment\" as men often get dis-empowered due to blatant misuse of law?</td>\n",
       "      <td>1</td>\n",
       "    </tr>\n",
       "    <tr>\n",
       "      <th>924829</th>\n",
       "      <td>b53dadd48f2292d6a483</td>\n",
       "      <td>Why are westerners blinded to the current imperialism by America?</td>\n",
       "      <td>1</td>\n",
       "    </tr>\n",
       "    <tr>\n",
       "      <th>809371</th>\n",
       "      <td>9e9c192794dd86ba193c</td>\n",
       "      <td>What can I do when you have tight shoes that match the size of my old shoes?</td>\n",
       "      <td>1</td>\n",
       "    </tr>\n",
       "    <tr>\n",
       "      <th>1092708</th>\n",
       "      <td>d624470dd25dd5bdb8c7</td>\n",
       "      <td>Most historians and people who study the US Civil War agree that its cause was a mixture of \"state's rights\" and slavery. In relation to slavery, was the Christian God on the side of the Union or the Confederacy?</td>\n",
       "      <td>1</td>\n",
       "    </tr>\n",
       "    <tr>\n",
       "      <th>133558</th>\n",
       "      <td>1a230ea788d7a9f30463</td>\n",
       "      <td>I Enjoy going to the gloryhole and sucking cock while my husband watches. Am I a slut?</td>\n",
       "      <td>1</td>\n",
       "    </tr>\n",
       "  </tbody>\n",
       "</table>\n",
       "</div>"
      ],
      "text/plain": [
       "                          qid  \\\n",
       "515914   650351b109e63e95e5aa   \n",
       "623115   7a06137b249f4d4fe453   \n",
       "477335   5d7a26b369dae2ec3fdf   \n",
       "397838   4df016329661c6063d14   \n",
       "50779    09f41e9adb03aab835d5   \n",
       "1111301  d9c26b2f9a0569984566   \n",
       "924829   b53dadd48f2292d6a483   \n",
       "809371   9e9c192794dd86ba193c   \n",
       "1092708  d624470dd25dd5bdb8c7   \n",
       "133558   1a230ea788d7a9f30463   \n",
       "\n",
       "                                                                                                                                                                                                                question_text  \\\n",
       "515914                                                                                                                                                              Who do you find more attractive: Indian or Pakistani men?   \n",
       "623115                                                                                                                                                              Why is public sharting so prolific amoung liberals today?   \n",
       "477335                                                                                                                                                                                    Is canibalism in China on the rise?   \n",
       "397838                        Are American parents assholes for their expectations for their kids to leave their homes at a certain time? Other cultures love their families, and don't kick out young or old (grandparents).   \n",
       "50779                                                                                                                                                          Why Turkish people dislike American tourists in their country?   \n",
       "1111301                                                                       Do you think it should be \"peoples' empowerment\" rather than \"women's empowerment\" as men often get dis-empowered due to blatant misuse of law?   \n",
       "924829                                                                                                                                                      Why are westerners blinded to the current imperialism by America?   \n",
       "809371                                                                                                                                           What can I do when you have tight shoes that match the size of my old shoes?   \n",
       "1092708  Most historians and people who study the US Civil War agree that its cause was a mixture of \"state's rights\" and slavery. In relation to slavery, was the Christian God on the side of the Union or the Confederacy?   \n",
       "133558                                                                                                                                 I Enjoy going to the gloryhole and sucking cock while my husband watches. Am I a slut?   \n",
       "\n",
       "         target  \n",
       "515914        1  \n",
       "623115        1  \n",
       "477335        1  \n",
       "397838        1  \n",
       "50779         1  \n",
       "1111301       1  \n",
       "924829        1  \n",
       "809371        1  \n",
       "1092708       1  \n",
       "133558        1  "
      ]
     },
     "execution_count": 6,
     "metadata": {},
     "output_type": "execute_result"
    }
   ],
   "source": [
    "pd.set_option('max_colwidth', 240)\n",
    "df_in.sample(10)"
   ]
  },
  {
   "cell_type": "code",
   "execution_count": 7,
   "metadata": {},
   "outputs": [
    {
     "data": {
      "text/plain": [
       "0    1225312\n",
       "1      80810\n",
       "Name: target, dtype: int64"
      ]
     },
     "execution_count": 7,
     "metadata": {},
     "output_type": "execute_result"
    }
   ],
   "source": [
    "df.target.value_counts()"
   ]
  },
  {
   "cell_type": "code",
   "execution_count": 8,
   "metadata": {
    "collapsed": true
   },
   "outputs": [],
   "source": [
    "df['question_words'] = df.question_text.str.split(\" \")"
   ]
  },
  {
   "cell_type": "code",
   "execution_count": 9,
   "metadata": {},
   "outputs": [
    {
     "data": {
      "text/html": [
       "<div>\n",
       "<style scoped>\n",
       "    .dataframe tbody tr th:only-of-type {\n",
       "        vertical-align: middle;\n",
       "    }\n",
       "\n",
       "    .dataframe tbody tr th {\n",
       "        vertical-align: top;\n",
       "    }\n",
       "\n",
       "    .dataframe thead th {\n",
       "        text-align: right;\n",
       "    }\n",
       "</style>\n",
       "<table border=\"1\" class=\"dataframe\">\n",
       "  <thead>\n",
       "    <tr style=\"text-align: right;\">\n",
       "      <th></th>\n",
       "      <th>qid</th>\n",
       "      <th>question_text</th>\n",
       "      <th>target</th>\n",
       "      <th>question_words</th>\n",
       "    </tr>\n",
       "  </thead>\n",
       "  <tbody>\n",
       "    <tr>\n",
       "      <th>0</th>\n",
       "      <td>00002165364db923c7e6</td>\n",
       "      <td>How did Quebec nationalists see their province as a nation in the 1960s?</td>\n",
       "      <td>0</td>\n",
       "      <td>[How, did, Quebec, nationalists, see, their, province, as, a, nation, in, the, 1960s?]</td>\n",
       "    </tr>\n",
       "    <tr>\n",
       "      <th>1</th>\n",
       "      <td>000032939017120e6e44</td>\n",
       "      <td>Do you have an adopted dog, how would you encourage people to adopt and not shop?</td>\n",
       "      <td>0</td>\n",
       "      <td>[Do, you, have, an, adopted, dog,, how, would, you, encourage, people, to, adopt, and, not, shop?]</td>\n",
       "    </tr>\n",
       "    <tr>\n",
       "      <th>2</th>\n",
       "      <td>0000412ca6e4628ce2cf</td>\n",
       "      <td>Why does velocity affect time? Does velocity affect space geometry?</td>\n",
       "      <td>0</td>\n",
       "      <td>[Why, does, velocity, affect, time?, Does, velocity, affect, space, geometry?]</td>\n",
       "    </tr>\n",
       "    <tr>\n",
       "      <th>3</th>\n",
       "      <td>000042bf85aa498cd78e</td>\n",
       "      <td>How did Otto von Guericke used the Magdeburg hemispheres?</td>\n",
       "      <td>0</td>\n",
       "      <td>[How, did, Otto, von, Guericke, used, the, Magdeburg, hemispheres?]</td>\n",
       "    </tr>\n",
       "    <tr>\n",
       "      <th>4</th>\n",
       "      <td>0000455dfa3e01eae3af</td>\n",
       "      <td>Can I convert montra helicon D to a mountain bike by just changing the tyres?</td>\n",
       "      <td>0</td>\n",
       "      <td>[Can, I, convert, montra, helicon, D, to, a, mountain, bike, by, just, changing, the, tyres?]</td>\n",
       "    </tr>\n",
       "  </tbody>\n",
       "</table>\n",
       "</div>"
      ],
      "text/plain": [
       "                    qid  \\\n",
       "0  00002165364db923c7e6   \n",
       "1  000032939017120e6e44   \n",
       "2  0000412ca6e4628ce2cf   \n",
       "3  000042bf85aa498cd78e   \n",
       "4  0000455dfa3e01eae3af   \n",
       "\n",
       "                                                                       question_text  \\\n",
       "0           How did Quebec nationalists see their province as a nation in the 1960s?   \n",
       "1  Do you have an adopted dog, how would you encourage people to adopt and not shop?   \n",
       "2                Why does velocity affect time? Does velocity affect space geometry?   \n",
       "3                          How did Otto von Guericke used the Magdeburg hemispheres?   \n",
       "4      Can I convert montra helicon D to a mountain bike by just changing the tyres?   \n",
       "\n",
       "   target  \\\n",
       "0       0   \n",
       "1       0   \n",
       "2       0   \n",
       "3       0   \n",
       "4       0   \n",
       "\n",
       "                                                                                       question_words  \n",
       "0              [How, did, Quebec, nationalists, see, their, province, as, a, nation, in, the, 1960s?]  \n",
       "1  [Do, you, have, an, adopted, dog,, how, would, you, encourage, people, to, adopt, and, not, shop?]  \n",
       "2                      [Why, does, velocity, affect, time?, Does, velocity, affect, space, geometry?]  \n",
       "3                                 [How, did, Otto, von, Guericke, used, the, Magdeburg, hemispheres?]  \n",
       "4       [Can, I, convert, montra, helicon, D, to, a, mountain, bike, by, just, changing, the, tyres?]  "
      ]
     },
     "execution_count": 9,
     "metadata": {},
     "output_type": "execute_result"
    }
   ],
   "source": [
    "df.head()"
   ]
  },
  {
   "cell_type": "code",
   "execution_count": null,
   "metadata": {
    "collapsed": true
   },
   "outputs": [],
   "source": []
  }
 ],
 "metadata": {
  "kernelspec": {
   "display_name": "Python 3",
   "language": "python",
   "name": "python3"
  },
  "language_info": {
   "codemirror_mode": {
    "name": "ipython",
    "version": 3
   },
   "file_extension": ".py",
   "mimetype": "text/x-python",
   "name": "python",
   "nbconvert_exporter": "python",
   "pygments_lexer": "ipython3",
   "version": "3.6.3"
  }
 },
 "nbformat": 4,
 "nbformat_minor": 2
}
